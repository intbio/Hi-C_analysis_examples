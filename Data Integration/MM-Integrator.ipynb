{
 "cells": [
  {
   "cell_type": "code",
   "execution_count": null,
   "metadata": {},
   "outputs": [],
   "source": [
    "#This is MM-Integrator (MNase-seq & Micro-C Integrator)\n",
    "#This script allows to get a file with numbers of contacts between nucleosomes in a chosen locus\n",
    "#Get it from a file with nucleosomes positioning and a micro-c cooler with nucleosomal (200 bp) resolution\n",
    "#This script was written for integrating https://www.ncbi.nlm.nih.gov/geo/query/acc.cgi?acc=GSM1004653 and https://data.4dnucleome.org/experiment-set-replicates/4DNES14CNC1I/\n",
    "#For getting a nucleosomes contacts map of mouse genome locus Igf2-H19\n",
    "------------\n",
    "#To start with, upload your micro-c data table for chosen locus and cleanse it of useless columns\n",
    "import pandas as pd\n",
    "contacts = pd.read_table('Igf2_H19', sep=r'\\t', engine='python', names=['chrom1_name', 'chrom1_start_locus','chrom1_end_locus', 'chrom2_name', 'chrom2_start_locus','chrom2_end_locus','number_of_contacts'], index_col=False)\n",
    "del contacts['chrom1_name']\n",
    "del contacts['chrom2_name']\n",
    "contacts.head()"
   ]
  },
  {
   "cell_type": "code",
   "execution_count": null,
   "metadata": {},
   "outputs": [],
   "source": [
    "#Here we make special columns -- nucl_1_center and nucl_2_center in order to map later nucleosomes positions on cooler bins\n",
    "#Also we introduce a column named nucl_1_name\n",
    "#A serial number of a nucleosome (its name) mapped into corresponding bin will be here\n",
    "contacts['nucl_1_center'] = (contacts['chrom1_start_locus']+contacts['chrom1_end_locus'])/2\n",
    "contacts['nucl_2_center'] = (contacts['chrom2_start_locus']+contacts['chrom2_end_locus'])/2\n",
    "contacts['nucl_1_center'] = contacts['nucl_1_center'].astype(int)\n",
    "contacts['nucl_2_center'] = contacts['nucl_2_center'].astype(int)\n",
    "contacts.drop(['chrom1_start_locus','chrom1_end_locus','chrom2_start_locus','chrom2_end_locus'], axis=1, inplace=True)\n",
    "contacts['nucl_1_name'] = ''\n",
    "contacts.head()"
   ]
  },
  {
   "cell_type": "code",
   "execution_count": null,
   "metadata": {},
   "outputs": [],
   "source": [
    "#Now let's deal with nucleosomes positionung file\n",
    "nucleosomes = pd.read_table('igfnucl.txt', sep=r'\\t', engine='python', names=['chrom_name', 'nucl_start_locus','nucl_end_locus', 'mnase_protected'], index_col=False)\n",
    "del nucleosomes['chrom_name']\n",
    "del nucleosomes['mnase_protected']\n",
    "nucleosomes = nucleosomes.sort_values(['nucl_start_locus'])\n",
    "nucleosomes.head()"
   ]
  },
  {
   "cell_type": "code",
   "execution_count": null,
   "metadata": {},
   "outputs": [],
   "source": [
    "#Our nucleosomes positions data was rather confusing\n",
    "#It contained different variants of start and end positions of nucleosomes\n",
    "#There were also some overlappings between nucleosomes areas\n",
    "#So it was required to unify data\n",
    "#Thus a quite brut approach was developed:\n",
    "#In order to unify data we filter out all positions with same start but different ends\n",
    "#The mean of ends coordinates is now a consensual end for all positions with equal starts\n",
    "nucleosomes = nucleosomes.groupby('nucl_start_locus', as_index=False)['nucl_end_locus'].mean().astype(int)"
   ]
  },
  {
   "cell_type": "code",
   "execution_count": null,
   "metadata": {},
   "outputs": [],
   "source": [
    "#Now let's finally unify nucleosomes positions data via handling the overlapping issue\n",
    "#To do it: \n",
    "#1.Delete all positions which starts are no further than 200 bp from the first position start\n",
    "#Repeat it for the fresh second position \n",
    "#and after -- iteratively -- for each next (amongst the remaining) position\n",
    "\n",
    "compared_nucl_start = 0\n",
    "for indexus, row in nucleosomes.iterrows():\n",
    "    if ((nucleosomes.loc[indexus]['nucl_start_locus']-nucleosomes.loc[compared_nucl_start]['nucl_start_locus'])<200)and((nucleosomes.loc[indexus]['nucl_start_locus']-nucleosomes.loc[compared_nucl_start]['nucl_start_locus'])!=0):\n",
    "        nucleosomes.drop(indexus, inplace=True)\n",
    "    elif nucleosomes.loc[indexus]['nucl_start_locus']-nucleosomes.loc[compared_nucl_start]['nucl_start_locus'] ==0:\n",
    "        continue\n",
    "    else:\n",
    "        compared_nucl_start = indexus\n",
    "        "
   ]
  },
  {
   "cell_type": "code",
   "execution_count": null,
   "metadata": {},
   "outputs": [],
   "source": [
    "#Here we create a column with nucleosomes serial numbers serving as names\n",
    "import numpy as np\n",
    "nucleosomes['nucl_names'] = np.arange(len(nucleosomes))\n",
    "nucleosomes['nucl_names'] = nucleosomes['nucl_names'].apply(lambda x: 'nucl_'+str(x))\n",
    "nucleosomes.head()"
   ]
  },
  {
   "cell_type": "code",
   "execution_count": null,
   "metadata": {},
   "outputs": [],
   "source": [
    "#Finally, we integrate data\n",
    "#For each cooler bin (first/left of the pair) we check what nucleosome it corresponds to\n",
    "#And add name of this nucleosome into the already prepared contacts column -- nucl_1_name\n",
    "for index, row in contacts.iterrows():\n",
    "    try:\n",
    "        contacts.at[index,'nucl_1_name'] = nucleosomes[(nucleosomes['nucl_start_locus'] < contacts.loc[index]['nucl_1_center'])&(nucleosomes['nucl_end_locus'] > contacts.loc[index]['nucl_1_center'])]['nucl_names'].iat[0]\n",
    "    except IndexError:\n",
    "        continue"
   ]
  },
  {
   "cell_type": "code",
   "execution_count": null,
   "metadata": {},
   "outputs": [],
   "source": [
    "#Do the same for each second/right cooler bin \n",
    "for index, row in contacts.iterrows():\n",
    "    try:\n",
    "        contacts.at[index,'nucl_2_name'] = nucleosomes[(nucleosomes['nucl_start_locus'] < contacts.loc[index]['nucl_2_center'])&(nucleosomes['nucl_end_locus'] > contacts.loc[index]['nucl_2_center'])]['nucl_names'].iat[0]\n",
    "    except IndexError:\n",
    "        continue"
   ]
  },
  {
   "cell_type": "code",
   "execution_count": null,
   "metadata": {},
   "outputs": [],
   "source": [
    "#Now we have a coveted data table -- nucleosomes contacts\n",
    "#It seems like the following reindexation makes table more convenient for visual analysis\n",
    "#However, it is not (obviously) obligatory \n",
    "contacts = contacts.reindex(columns=['nucl_1_center', 'nucl_2_center','nucl_1_name','nucl_2_name','number_of_contacts'])"
   ]
  },
  {
   "cell_type": "code",
   "execution_count": null,
   "metadata": {},
   "outputs": [],
   "source": [
    "#Now we can save this table as csv file\n",
    "contacts.to_csv('integrated_igf2_locus.csv',index=False)"
   ]
  },
  {
   "cell_type": "code",
   "execution_count": null,
   "metadata": {},
   "outputs": [],
   "source": [
    "#It will be wise to save also the nucleosomes positions (with their names) table\n",
    "#As it contains information about regions occupied by nucleosomes\n",
    "#And the contacts table doesn't\n",
    "nucleosomes.to_csv('igf2_locus_nucleosomes.csv',index=False)"
   ]
  }
 ],
 "metadata": {
  "kernelspec": {
   "display_name": "Python 3",
   "language": "python",
   "name": "python3"
  },
  "language_info": {
   "codemirror_mode": {
    "name": "ipython",
    "version": 3
   },
   "file_extension": ".py",
   "mimetype": "text/x-python",
   "name": "python",
   "nbconvert_exporter": "python",
   "pygments_lexer": "ipython3",
   "version": "3.7.3"
  }
 },
 "nbformat": 4,
 "nbformat_minor": 2
}
