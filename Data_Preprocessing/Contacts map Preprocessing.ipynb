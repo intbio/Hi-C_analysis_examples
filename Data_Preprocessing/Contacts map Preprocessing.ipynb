{
 "cells": [
  {
   "cell_type": "code",
   "execution_count": null,
   "metadata": {},
   "outputs": [],
   "source": [
    "#Firstly, get data in a format: .cool, .mcool, .hic, .hicpro, .homer, .h5\n",
    "#Usually the data is in the 4DNucleome repository\n",
    "%%bash\n",
    "wget -o <new name of .cool> <url>"
   ]
  },
  {
   "cell_type": "code",
   "execution_count": null,
   "metadata": {},
   "outputs": [],
   "source": [
    "#To work with the mustache (micro-c data analysis, especially -- loops calling), cooltools (hi-c data analysis by Mirny lab) -- .cool format is required\n",
    "#We have a format converter working: by means of HiCExplorer\n",
    "#It is available in the R_nor_old_nor_new conda environment\n",
    "#The h5, cool, hic, homer, hicpro formats can be converted into cool, h5, homer, ginteractions, mcool\n",
    "#You need to specify the resolution or the output file will be multiresolutional\n",
    "%%bash\n",
    "hicConvertFormat -m <path to your matrix> -o <output name> --inputFormat --outputFormat -r <resolution> "
   ]
  },
  {
   "cell_type": "code",
   "execution_count": null,
   "metadata": {},
   "outputs": [],
   "source": [
    "#We also have graphic interface program -- GenomeFlow, it's avaliable via X2Go\n",
    "#You can annotate your hi-c data, get simple 3D models, call different structures with it\n",
    "#It works with sparse matrix input\n",
    "#You can make a sparse matrix file from .cool file using Bioconductor package -- HiCcompare\n",
    "#However firstly you have to dump .cool file as a text file\n",
    "#Switch to the coolenv conda environment \n",
    "%%bash\n",
    "cooler dump --join -r <f.e: chr1:10,000,000-11,000,000> <path to your .cool> > <name of dump result - txt file> \n",
    "#It's very important -- check style of chrom names by  cooler dump -t chroms, it can be that 1,2,3...X,Y,Mt are used instead of chr1,chr2,chr3,...,chrX,chrY,chrM.\n",
    "library(HiCcompare)\n",
    "#If there is no such library as HiCcompare use the following:\n",
    "if (!requireNamespace(\"BiocManager\", quietly=TRUE))\n",
    "    install.packages(\"BiocManager\")\n",
    "BiocManager::install(\"HiCcompare\")\n",
    "#Now you can conver it into sparse format\n",
    "#Switch to the R_nor_old_nor_new conda environment\n",
    "<name of sparse matrix> <- read.table(\"<name of dumped txt file>\", header = FALSE)\n",
    "sparse <- cooler2sparse(<name of sparse matrix>)\n",
    "head(sparse)"
   ]
  },
  {
   "cell_type": "code",
   "execution_count": null,
   "metadata": {},
   "outputs": [],
   "source": [
    "#We have DistMan script -- it allows to perform basic data analysis of Hi-C (Micro-C) data\n",
    "#Also it can create a distance map and a heatmap visualisation of it\n",
    "#Output of this script can be streamed into GraphDom script\n",
    "#Input of the DistMan -- Hi-C data in the bedpe text format\n",
    "#You can get data in this format using cooler dump as described before\n",
    "#Also you can get bedpe table from .cool file using HiCExplorer (R_nor_old_nor_new environment)\n",
    "<name of bedpe file> <- cooler2bedpe(path = \"your_cool_file.cool\")\n",
    "sink(file = 'name')\n",
    "<name of bedpe file>\n",
    "sink(file = NULL)"
   ]
  },
  {
   "cell_type": "code",
   "execution_count": null,
   "metadata": {},
   "outputs": [],
   "source": [
    "#GenomicInteractions Bioconductor package can be used to get genomic distances from contact map\n",
    "#It is also available in the the R_nor_old_nor_new conda environment\n",
    "#It could be better to use terminal in place of jupyter\n",
    "#Package works with the .homer data so you need to convert your data using HiCExplorer\n",
    "hic_file <- system.file('<your .homer file>',  \n",
    "                        package=\"GenomicInteractions\")\n",
    "hic_data <- makeGenomicInteractionsFromFile(hic_file, \n",
    "                    type=\"homer\", \n",
    "                    experiment_name = \"<name>\", \n",
    "                    description = \"<some description\")\n",
    "calculateDistances(hic_data, method = \"midpoint\", floor = TRUE)"
   ]
  },
  {
   "cell_type": "code",
   "execution_count": null,
   "metadata": {},
   "outputs": [],
   "source": []
  }
 ],
 "metadata": {
  "kernelspec": {
   "display_name": "Python 3",
   "language": "python",
   "name": "python3"
  },
  "language_info": {
   "codemirror_mode": {
    "name": "ipython",
    "version": 3
   },
   "file_extension": ".py",
   "mimetype": "text/x-python",
   "name": "python",
   "nbconvert_exporter": "python",
   "pygments_lexer": "ipython3",
   "version": "3.7.3"
  }
 },
 "nbformat": 4,
 "nbformat_minor": 2
}
