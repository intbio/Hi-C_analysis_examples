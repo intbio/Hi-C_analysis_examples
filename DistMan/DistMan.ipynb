{
 "cells": [
  {
   "cell_type": "code",
   "execution_count": null,
   "metadata": {},
   "outputs": [],
   "source": [
    "#Here we load our contacts data in the text bedpe format (.cool dumped data is bedpe)\n",
    "import pandas as pd\n",
    "contacts = pd.read_table('Your bedpe dataset.txt', sep=r'\\t', engine='python', names=['chrom1_name', 'chrom1_start_locus','chrom1_end_locus', 'chrom2_name', 'chrom2_start_locus','chrom2_end_locus','number_of_contacts'], index_col=False)\n",
    "contacts.head() #check that all is good"
   ]
  },
  {
   "cell_type": "code",
   "execution_count": null,
   "metadata": {},
   "outputs": [],
   "source": [
    "#Here we get the distances as inverted frequences\n",
    "alpha = 0.1 #choose your float alpha -- power of inversion\n",
    "contacts['distance_alpha={}'.format(alpha)] = contacts['number_of_contacts'].apply(lambda x: 1/(x**alpha) if x != 0 else 2.0)\n",
    "contacts.head() #check that all is good"
   ]
  },
  {
   "cell_type": "code",
   "execution_count": null,
   "metadata": {},
   "outputs": [],
   "source": [
    "#Let's explore inTERchromosomal contacts\n",
    "#See what is the sum number of contacts between different chromosomes:\n",
    "interchrom_contacts = contacts.groupby(['chrom1_name', 'chrom2_name'], as_index=False)[['number_of_contacts']].sum()\n",
    "interchrom_contacts.head()"
   ]
  },
  {
   "cell_type": "code",
   "execution_count": null,
   "metadata": {},
   "outputs": [],
   "source": [
    "chosen_chromosome ='2' #choose number of a chromosome instead of '1'\n",
    "#You'd better not change the name of the following dataframe (it's used everywhere below):\n",
    "chromosome_1_contacts = interchrom_contacts[(interchrom_contacts['chrom1_name'] == chosen_chromosome)&(interchrom_contacts['chrom2_name'] != chosen_chromosome)]\n",
    "#Now we can see with what chromosome your chosen chromosome interacts most...\n",
    "chromosome_1_contacts[chromosome_1_contacts['number_of_contacts']==chromosome_1_contacts['number_of_contacts'].max()]"
   ]
  },
  {
   "cell_type": "code",
   "execution_count": null,
   "metadata": {},
   "outputs": [],
   "source": [
    "#...And with what -- least\n",
    "chromosome_1_contacts[chromosome_1_contacts['number_of_contacts']==chromosome_1_contacts['number_of_contacts'].min()]"
   ]
  },
  {
   "cell_type": "code",
   "execution_count": null,
   "metadata": {},
   "outputs": [],
   "source": [
    "#Or you can see the full spectre:\n",
    "chromosome_1_contacts.sort_values(by='number_of_contacts')"
   ]
  },
  {
   "cell_type": "code",
   "execution_count": null,
   "metadata": {},
   "outputs": [],
   "source": [
    "#Let's explore inTRAchromosomal contacts\n",
    "intrachrom_contacts = contacts[(contacts['chrom1_name'] == chosen_chromosome)&(contacts['chrom2_name'] == chosen_chromosome)]\n",
    "intrachrom_contacts = intrachrom_contacts[['chrom1_start_locus','chrom2_start_locus','number_of_contacts']]\n",
    "intrachrom_contacts.head()"
   ]
  },
  {
   "cell_type": "code",
   "execution_count": null,
   "metadata": {},
   "outputs": [],
   "source": [
    "#Let's see what two loci interacts the most\n",
    "intrachrom_contacts[intrachrom_contacts['number_of_contacts']==intrachrom_contacts['number_of_contacts'].max()]"
   ]
  },
  {
   "cell_type": "code",
   "execution_count": null,
   "metadata": {},
   "outputs": [],
   "source": [
    "#Let's see what two loci interacts the least\n",
    "intrachrom_contacts[intrachrom_contacts['number_of_contacts']==intrachrom_contacts['number_of_contacts'].min()]"
   ]
  },
  {
   "cell_type": "code",
   "execution_count": null,
   "metadata": {},
   "outputs": [],
   "source": [
    "#And the full spectre\n",
    "intrachrom_contacts.sort_values(by='number_of_contacts')"
   ]
  },
  {
   "cell_type": "code",
   "execution_count": null,
   "metadata": {},
   "outputs": [],
   "source": [
    "#Here the chromosoms lengths are\n",
    "chrom_lengths = contacts.groupby('chrom1_name', as_index=False)[['chrom1_end_locus']].max() \n",
    "chrom_lengths.columns = ['chromosome', 'length']\n",
    "chrom_lengths #check that all is good"
   ]
  },
  {
   "cell_type": "code",
   "execution_count": null,
   "metadata": {},
   "outputs": [],
   "source": [
    "#Let's compute and compare the degree of inner interactions of the chromosomes\n",
    "#To do this we divide the number of intrachromosomal interactions by their length\n",
    " \n",
    "only_intra_contacts = contacts[contacts['chrom1_name']==contacts['chrom2_name']]\n",
    "chromosomes_entanglements = only_intra_contacts.groupby('chrom1_name',as_index=False)[['number_of_contacts']].sum()\n",
    "chromosomes_entanglements['entanglement'] = chromosomes_entanglements['number_of_contacts']/chrom_lengths['length']\n",
    "chromosomes_entanglements.columns = ('chromosome','contacts','entanglement')\n",
    "chromosomes_entanglements.sort_values(by='entanglement')"
   ]
  },
  {
   "cell_type": "code",
   "execution_count": null,
   "metadata": {},
   "outputs": [],
   "source": [
    "#Sort:\n",
    "chromosomes_entanglements.sort_values(by='entanglement')"
   ]
  },
  {
   "cell_type": "code",
   "execution_count": null,
   "metadata": {},
   "outputs": [],
   "source": [
    "#Also we can compare the normalized means of intrachromosomal interactions\n",
    "#Firstly, we apply min-max normalisation to mean value: compute min, max and mean...\n",
    "only_intra_contacts['average'] = only_intra_contacts.groupby('chrom1_name', as_index=False)['number_of_contacts'].transform('mean')\n",
    "only_intra_contacts['minimum'] =  only_intra_contacts.groupby('chrom1_name', as_index=False)['number_of_contacts'].transform('min')\n",
    "only_intra_contacts['maximum'] =  only_intra_contacts.groupby('chrom1_name', as_index=False)['number_of_contacts'].transform('max')"
   ]
  },
  {
   "cell_type": "code",
   "execution_count": null,
   "metadata": {},
   "outputs": [],
   "source": [
    "#...And apply\n",
    "only_intra_contacts['normised_average'] = (only_intra_contacts['average']-only_intra_contacts['minimum'])/(only_intra_contacts['maximum']-only_intra_contacts['minimum'])"
   ]
  },
  {
   "cell_type": "code",
   "execution_count": null,
   "metadata": {},
   "outputs": [],
   "source": [
    "#Here we create a dataframe with alter entanglement -- normalised mean\n",
    "chromosomes_alter_entanglements = only_intra_contacts.groupby('chrom1_name',as_index=False)[['normised_average']].max()\n",
    "chromosomes_alter_entanglements.columns = ['chromosome','alter_entanglement']\n",
    "chromosomes_alter_entanglements.sort_values(by='alter_entanglement')"
   ]
  },
  {
   "cell_type": "code",
   "execution_count": null,
   "metadata": {},
   "outputs": [],
   "source": [
    "#Let's compare entanglements:\n",
    "chromosomes_entanglements.sort_values(by='chromosome')\n",
    "chromosomes_alter_entanglements.sort_values(by='chromosome')\n",
    "chrom_lengths.sort_values(by='chromosome')\n",
    "comparing_entanglements = chromosomes_entanglements.join([chromosomes_alter_entanglements['alter_entanglement'],chrom_lengths['length']])\n",
    "comparing_entanglements"
   ]
  },
  {
   "cell_type": "code",
   "execution_count": null,
   "metadata": {},
   "outputs": [],
   "source": [
    "#Let's see how columns Spearman-correlate:\n",
    "comparing_entanglements.corr(method='spearman')"
   ]
  },
  {
   "cell_type": "code",
   "execution_count": null,
   "metadata": {},
   "outputs": [],
   "source": [
    "#And how columns Kendall-correlate:\n",
    "comparing_entanglements.corr(method='kendall')"
   ]
  },
  {
   "cell_type": "code",
   "execution_count": null,
   "metadata": {},
   "outputs": [],
   "source": [
    "#Let's visualise to see (or not) correlation:\n",
    "points_cloud_ents = comparing_entanglements.plot.scatter(x='entanglement',y='alter_entanglement')"
   ]
  },
  {
   "cell_type": "code",
   "execution_count": null,
   "metadata": {},
   "outputs": [],
   "source": [
    "points_cloud_ent_lengths = comparing_entanglements.plot.scatter(x='entanglement',y='length')"
   ]
  },
  {
   "cell_type": "code",
   "execution_count": null,
   "metadata": {},
   "outputs": [],
   "source": [
    "points_cloud_altent_lengths = comparing_entanglements.plot.scatter(x='alter_entanglement',y='length')"
   ]
  },
  {
   "cell_type": "code",
   "execution_count": null,
   "metadata": {},
   "outputs": [],
   "source": [
    "points_cloud_contacts_lengths = comparing_entanglements.plot.scatter(x='contacts',y='length')"
   ]
  },
  {
   "cell_type": "code",
   "execution_count": null,
   "metadata": {},
   "outputs": [],
   "source": [
    "#Firstly, let's try linear regression\n",
    "#If it doesn't fit -- non-linear curve fitting will be tried\n",
    "from scipy.optimize import leastsq\n",
    "import numpy as np\n",
    "import matplotlib.pyplot as plt\n",
    "\n",
    "\n",
    "def curve_fitting():\n",
    "   # data provided\n",
    "   x=np.array(comparing_entanglements['contacts'].tolist())\n",
    "   y=np.array(comparing_entanglements['length'].tolist())\n",
    "   # here, create lambda functions for  fit -- here linear\n",
    "   # coefficients is a tuple that contains the parameters of the fit -- function coeffs\n",
    "   Linear=lambda tpl,x : tpl[0]*x + tpl[1]\n",
    "   \n",
    "   # function we would like to fit\n",
    "   func=Linear\n",
    "   # ErrorFunc is the diference between the func and the y \"experimental\" data\n",
    "   ErrorFunc=lambda tpl,x,y: func(tpl,x)-y\n",
    "   #tplInitial contains the \"first guess\" of the parameters \n",
    "   tplInitial1=(1.0,-0.2)\n",
    "   # leastsq finds the set of parameters in the tuple tpl that minimizes ErrorFunc\n",
    "   \n",
    "   tplFinal1,success=leastsq(ErrorFunc,tplInitial1[:],args=(x,y))\n",
    "   print (\" linear fit  \",tplFinal1)\n",
    "   \n",
    "   yy1=func(tplFinal1,x)\n",
    "   #------------------------------------------------\n",
    "   # now the quadratic fit\n",
    "   #-------------------------------------------------\n",
    "   \n",
    "\n",
    "   \n",
    "   plt.plot(x,yy1,'r--',x,y,'bo')\n",
    "   plt.show()\n",
    "\n",
    "curve_fitting()"
   ]
  },
  {
   "cell_type": "code",
   "execution_count": null,
   "metadata": {},
   "outputs": [],
   "source": []
  },
  {
   "cell_type": "code",
   "execution_count": null,
   "metadata": {},
   "outputs": [],
   "source": [
    "#Let's make new dataframe -- genome square with distances\n",
    "#Firstly, we make indexes (there are also columns as it is a square)\n",
    "#Indexes are chromosome bins in the format \"x_y\", x for the chromosome number, y for bin number \n",
    "\n",
    "res = 1000 #here is the resolution of your Hi-C data, integer\n",
    "indexes = []\n",
    "i = 0\n",
    "for k in chrom_lengths['chromosome']:\n",
    "    for j in range((chrom_lengths.loc[i]['length'])//res):\n",
    "        indexes.append(k + '_' + str(j+1))\n",
    "    i+=1\n",
    "indexes.head() #check that all is good"
   ]
  },
  {
   "cell_type": "code",
   "execution_count": null,
   "metadata": {},
   "outputs": [],
   "source": [
    "#Here we create a pandas DataFrame with chromosomes bins as indexes and columns\n",
    "#if dataset is to big you may make a rectangle instead of a square -- diminush the columns number -- choose your diminishing coefficient, integer\n",
    "\n",
    "dc = 1000 #here is the diminishing coefficient \n",
    "distances = pd.DataFrame(index=indexes, columns=indexes[:len(indexes)//dc])\n",
    "for k in indexes:\n",
    "    for m in indexes:\n",
    "        try:\n",
    "            distances.loc[k][m] = contacts[ (contacts['chrom2_end_locus']//res == int(m[m.find('_') + 1:]))&(contacts['chrom2_name'] == m[:m.index('_')]) &(contacts['chrom1_name'] == k[:k.index('_')]) & (contacts['chrom1_end_locus']//res == int(k[k.find('_') + 1:]))]['distance_alpha=0.1'].iat[0]\n",
    "            break\n",
    "        except IndexError:\n",
    "            distances.loc[k][m] = 2.0"
   ]
  },
  {
   "cell_type": "code",
   "execution_count": null,
   "metadata": {},
   "outputs": [],
   "source": [
    "#We need to get read of all NaNs in order to visualize our data\n",
    "distances.fillna(value=2.0, inplace=True)"
   ]
  },
  {
   "cell_type": "code",
   "execution_count": null,
   "metadata": {},
   "outputs": [],
   "source": [
    "#Check that all is good\n",
    "distances.head()"
   ]
  },
  {
   "cell_type": "code",
   "execution_count": null,
   "metadata": {},
   "outputs": [],
   "source": [
    "#Let's visualize our data as a heatmap\n",
    "import seaborn as sns\n",
    "sns.heatmap(distances, vmin=0, vmax=2.0, center=0.5, ) #parameteres in the brackets can be tuned differently\n"
   ]
  },
  {
   "cell_type": "code",
   "execution_count": null,
   "metadata": {},
   "outputs": [],
   "source": []
  }
 ],
 "metadata": {
  "kernelspec": {
   "display_name": "Python 3",
   "language": "python",
   "name": "python3"
  },
  "language_info": {
   "codemirror_mode": {
    "name": "ipython",
    "version": 3
   },
   "file_extension": ".py",
   "mimetype": "text/x-python",
   "name": "python",
   "nbconvert_exporter": "python",
   "pygments_lexer": "ipython3",
   "version": "3.7.3"
  }
 },
 "nbformat": 4,
 "nbformat_minor": 2
}
