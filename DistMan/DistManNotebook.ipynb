import pandas as pd
contacts = pd.read_table('MC_WTC11_c6_dump.txt', sep=r'\t', engine='python', names=['chrom1_name', 'chrom1_start_locus','chrom1_end_locus', 'chrom2_name', 'chrom2_start_locus','chrom2_end_locus','number_of_contacts'], index_col=False)
contacts.head() #check that all is good
